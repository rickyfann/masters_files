{
 "cells": [
  {
   "cell_type": "markdown",
   "id": "d8ae33f0",
   "metadata": {},
   "source": [
    "## General guidelines\n",
    "- image sizes are 2.5\" by 2.5\" in ppt\n",
    "- font for figure identifiers, \"a)\", is 14 times new roman"
   ]
  },
  {
   "cell_type": "markdown",
   "id": "e82ad450",
   "metadata": {},
   "source": [
    "## 2.1\n",
    "- move highlighted section to [3](#3)?\n",
    "\n",
    "# 3\n",
    "## 3.2\n",
    "- move blocking methodology to [4.1](#4.1)?\n",
    "\n",
    "## 3.2.1\n",
    "- 3 by 3 image -> show concentration map\n",
    "- Show concentration map with obstacles\n",
    "- Scrap the below image, expand into the \n",
    "\n",
    "## 3.4\n",
    "- majority of this will be written by jeff\n",
    "\n",
    "## 4.1\n",
    "- ~~change figure 1 to just be the image itself~~\n",
    "- ~~add another figure that contains different sizes of slabs (10 vs 20)~~\n",
    "- ~~second table should contain the results of slab size 20~~\n",
    "- ~~figure 3 should contain visualization of both slab styles on one figure~~\n",
    "\n",
    "## 4.2\n",
    "- instead of slabs, just randomly selected regions\n",
    "- illustrate this by greyscaling out the remainder of the image, highlight that both the location and size of the domain are random\n",
    "- 2D image is strictly for demonstration\n"
   ]
  }
 ],
 "metadata": {
  "language_info": {
   "name": "python"
  }
 },
 "nbformat": 4,
 "nbformat_minor": 5
}
